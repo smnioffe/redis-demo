{
 "cells": [
  {
   "cell_type": "code",
   "execution_count": 81,
   "id": "b85e4145",
   "metadata": {},
   "outputs": [],
   "source": [
    "#!pip3 install redis"
   ]
  },
  {
   "cell_type": "code",
   "execution_count": 82,
   "id": "32fedd4d",
   "metadata": {},
   "outputs": [],
   "source": [
    "import redis\n",
    "from time import sleep"
   ]
  },
  {
   "cell_type": "markdown",
   "id": "5723f127",
   "metadata": {},
   "source": [
    "Connecting to the source database on Server A *(this server)*, and to the replica database on Server B"
   ]
  },
  {
   "cell_type": "code",
   "execution_count": 83,
   "id": "5a6b9d1b",
   "metadata": {},
   "outputs": [],
   "source": [
    "r_source = redis.Redis(host='localhost', port=10001, db=0) ##Open Source Redis (Server A - this server)\n",
    "r_replica = redis.Redis(host='xxx.xxx.xxx', port=11279, db=0)  ##Redis Enterprise (Server B)"
   ]
  },
  {
   "cell_type": "markdown",
   "id": "bdddfc2d",
   "metadata": {},
   "source": [
    "### Creating and retrieving sequential list in redis"
   ]
  },
  {
   "cell_type": "markdown",
   "id": "b1fe5b70",
   "metadata": {},
   "source": [
    "#### Using a Redis List"
   ]
  },
  {
   "cell_type": "code",
   "execution_count": 84,
   "id": "500f5a64",
   "metadata": {},
   "outputs": [
    {
     "data": {
      "text/plain": [
       "1"
      ]
     },
     "execution_count": 84,
     "metadata": {},
     "output_type": "execute_result"
    }
   ],
   "source": [
    "r_source.delete('redisList')"
   ]
  },
  {
   "cell_type": "code",
   "execution_count": 85,
   "id": "980e5e05",
   "metadata": {},
   "outputs": [
    {
     "name": "stdout",
     "output_type": "stream",
     "text": [
      "Creating python list of integers 1-100...\n",
      "[1, 2, 3, 4, 5, 6, 7, 8, 9, 10, 11, 12, 13, 14, 15, 16, 17, 18, 19, 20, 21, 22, 23, 24, 25, 26, 27, 28, 29, 30, 31, 32, 33, 34, 35, 36, 37, 38, 39, 40, 41, 42, 43, 44, 45, 46, 47, 48, 49, 50, 51, 52, 53, 54, 55, 56, 57, 58, 59, 60, 61, 62, 63, 64, 65, 66, 67, 68, 69, 70, 71, 72, 73, 74, 75, 76, 77, 78, 79, 80, 81, 82, 83, 84, 85, 86, 87, 88, 89, 90, 91, 92, 93, 94, 95, 96, 97, 98, 99, 100]\n",
      "\n",
      "Using LPUSH command to create a Redis list, called \"redisList\" of the above integers...\n"
     ]
    },
    {
     "data": {
      "text/plain": [
       "100"
      ]
     },
     "execution_count": 85,
     "metadata": {},
     "output_type": "execute_result"
    }
   ],
   "source": [
    "print('Creating python list of integers 1-100...')\n",
    "n_list=[]\n",
    "for n in range(1,101):\n",
    "    n_list.append(n)\n",
    "\n",
    "print(n_list)    \n",
    "    \n",
    "print(\"\\nUsing LPUSH command to create a Redis list, called \\\"redisList\\\" of the above integers...\")\n",
    "r_source.lpush('redisList',*n_list)"
   ]
  },
  {
   "cell_type": "markdown",
   "id": "37057788",
   "metadata": {},
   "source": [
    "Retrieve integers from above list in **ascending** order from replica (Server B)"
   ]
  },
  {
   "cell_type": "code",
   "execution_count": 86,
   "id": "2bd42c0f",
   "metadata": {},
   "outputs": [
    {
     "name": "stdout",
     "output_type": "stream",
     "text": [
      "b'1'\tb'2'\tb'3'\tb'4'\tb'5'\tb'6'\tb'7'\tb'8'\tb'9'\tb'10'\tb'11'\tb'12'\tb'13'\tb'14'\tb'15'\tb'16'\tb'17'\tb'18'\tb'19'\tb'20'\tb'21'\tb'22'\tb'23'\tb'24'\tb'25'\tb'26'\tb'27'\tb'28'\tb'29'\tb'30'\tb'31'\tb'32'\tb'33'\tb'34'\tb'35'\tb'36'\tb'37'\tb'38'\tb'39'\tb'40'\tb'41'\tb'42'\tb'43'\tb'44'\tb'45'\tb'46'\tb'47'\tb'48'\tb'49'\tb'50'\tb'51'\tb'52'\tb'53'\tb'54'\tb'55'\tb'56'\tb'57'\tb'58'\tb'59'\tb'60'\tb'61'\tb'62'\tb'63'\tb'64'\tb'65'\tb'66'\tb'67'\tb'68'\tb'69'\tb'70'\tb'71'\tb'72'\tb'73'\tb'74'\tb'75'\tb'76'\tb'77'\tb'78'\tb'79'\tb'80'\tb'81'\tb'82'\tb'83'\tb'84'\tb'85'\tb'86'\tb'87'\tb'88'\tb'89'\tb'90'\tb'91'\tb'92'\tb'93'\tb'94'\tb'95'\tb'96'\tb'97'\tb'98'\tb'99'\tb'100'\t"
     ]
    }
   ],
   "source": [
    "for i in range(r_replica.llen('redisList')-1,-1,-1):\n",
    "    print(r_replica.lindex('redisList', i), end='\\t')"
   ]
  },
  {
   "cell_type": "markdown",
   "id": "a79c0872",
   "metadata": {},
   "source": [
    "Retrieve integers from above list in **descending** order from replica (Server B)"
   ]
  },
  {
   "cell_type": "code",
   "execution_count": 87,
   "id": "4cb3a975",
   "metadata": {},
   "outputs": [
    {
     "name": "stdout",
     "output_type": "stream",
     "text": [
      "b'100'\tb'99'\tb'98'\tb'97'\tb'96'\tb'95'\tb'94'\tb'93'\tb'92'\tb'91'\tb'90'\tb'89'\tb'88'\tb'87'\tb'86'\tb'85'\tb'84'\tb'83'\tb'82'\tb'81'\tb'80'\tb'79'\tb'78'\tb'77'\tb'76'\tb'75'\tb'74'\tb'73'\tb'72'\tb'71'\tb'70'\tb'69'\tb'68'\tb'67'\tb'66'\tb'65'\tb'64'\tb'63'\tb'62'\tb'61'\tb'60'\tb'59'\tb'58'\tb'57'\tb'56'\tb'55'\tb'54'\tb'53'\tb'52'\tb'51'\tb'50'\tb'49'\tb'48'\tb'47'\tb'46'\tb'45'\tb'44'\tb'43'\tb'42'\tb'41'\tb'40'\tb'39'\tb'38'\tb'37'\tb'36'\tb'35'\tb'34'\tb'33'\tb'32'\tb'31'\tb'30'\tb'29'\tb'28'\tb'27'\tb'26'\tb'25'\tb'24'\tb'23'\tb'22'\tb'21'\tb'20'\tb'19'\tb'18'\tb'17'\tb'16'\tb'15'\tb'14'\tb'13'\tb'12'\tb'11'\tb'10'\tb'9'\tb'8'\tb'7'\tb'6'\tb'5'\tb'4'\tb'3'\tb'2'\tb'1'\t"
     ]
    }
   ],
   "source": [
    "for i in range(0, r_replica.llen('redisList')):\n",
    "    print(r_replica.lindex('redisList', i), end='\\t')"
   ]
  },
  {
   "cell_type": "markdown",
   "id": "08c6117b",
   "metadata": {},
   "source": [
    "#### Using a Redis Sorted Set"
   ]
  },
  {
   "cell_type": "code",
   "execution_count": 88,
   "id": "c472e80a",
   "metadata": {},
   "outputs": [
    {
     "data": {
      "text/plain": [
       "1"
      ]
     },
     "execution_count": 88,
     "metadata": {},
     "output_type": "execute_result"
    }
   ],
   "source": [
    "r_source.delete('redisSortedSet')"
   ]
  },
  {
   "cell_type": "code",
   "execution_count": 89,
   "id": "0c79510b",
   "metadata": {},
   "outputs": [
    {
     "name": "stdout",
     "output_type": "stream",
     "text": [
      "Creating python dict of key and values between 1-100...\n",
      "{1: 1, 2: 2, 3: 3, 4: 4, 5: 5, 6: 6, 7: 7, 8: 8, 9: 9, 10: 10, 11: 11, 12: 12, 13: 13, 14: 14, 15: 15, 16: 16, 17: 17, 18: 18, 19: 19, 20: 20, 21: 21, 22: 22, 23: 23, 24: 24, 25: 25, 26: 26, 27: 27, 28: 28, 29: 29, 30: 30, 31: 31, 32: 32, 33: 33, 34: 34, 35: 35, 36: 36, 37: 37, 38: 38, 39: 39, 40: 40, 41: 41, 42: 42, 43: 43, 44: 44, 45: 45, 46: 46, 47: 47, 48: 48, 49: 49, 50: 50, 51: 51, 52: 52, 53: 53, 54: 54, 55: 55, 56: 56, 57: 57, 58: 58, 59: 59, 60: 60, 61: 61, 62: 62, 63: 63, 64: 64, 65: 65, 66: 66, 67: 67, 68: 68, 69: 69, 70: 70, 71: 71, 72: 72, 73: 73, 74: 74, 75: 75, 76: 76, 77: 77, 78: 78, 79: 79, 80: 80, 81: 81, 82: 82, 83: 83, 84: 84, 85: 85, 86: 86, 87: 87, 88: 88, 89: 89, 90: 90, 91: 91, 92: 92, 93: 93, 94: 94, 95: 95, 96: 96, 97: 97, 98: 98, 99: 99, 100: 100}\n",
      "\n",
      "Using ZADD command to create a Redis sorted set, called \"redisSortedSet\" of the above incremental key&values...\n"
     ]
    },
    {
     "data": {
      "text/plain": [
       "100"
      ]
     },
     "execution_count": 89,
     "metadata": {},
     "output_type": "execute_result"
    }
   ],
   "source": [
    "print('Creating python dict of key and values between 1-100...')\n",
    "n_dict=dict(zip(range(1, 101), range(1, 101)))\n",
    "\n",
    "print(n_dict)\n",
    "print(\"\\nUsing ZADD command to create a Redis sorted set, called \\\"redisSortedSet\\\" of the above incremental key&values...\")\n",
    "\n",
    "r_source.zadd(\"redisSortedSet\", n_dict)"
   ]
  },
  {
   "cell_type": "markdown",
   "id": "bf47223c",
   "metadata": {},
   "source": [
    "Retrieve elements from the Redis sorted set:"
   ]
  },
  {
   "cell_type": "code",
   "execution_count": 90,
   "id": "3f0a79a1",
   "metadata": {},
   "outputs": [
    {
     "name": "stdout",
     "output_type": "stream",
     "text": [
      "[b'1', b'2', b'3', b'4', b'5', b'6', b'7', b'8', b'9', b'10', b'11', b'12', b'13', b'14', b'15', b'16', b'17', b'18', b'19', b'20', b'21', b'22', b'23', b'24', b'25', b'26', b'27', b'28', b'29', b'30', b'31', b'32', b'33', b'34', b'35', b'36', b'37', b'38', b'39', b'40', b'41', b'42', b'43', b'44', b'45', b'46', b'47', b'48', b'49', b'50', b'51', b'52', b'53', b'54', b'55', b'56', b'57', b'58', b'59', b'60', b'61', b'62', b'63', b'64', b'65', b'66', b'67', b'68', b'69', b'70', b'71', b'72', b'73', b'74', b'75', b'76', b'77', b'78', b'79', b'80', b'81', b'82', b'83', b'84', b'85', b'86', b'87', b'88', b'89', b'90', b'91', b'92', b'93', b'94', b'95', b'96', b'97', b'98', b'99', b'100']\n"
     ]
    }
   ],
   "source": [
    "print(r_replica.zrangebyscore(\"redisSortedSet\", min=0, max=100, withscores = False))"
   ]
  },
  {
   "cell_type": "markdown",
   "id": "300bab11",
   "metadata": {},
   "source": [
    "Retrieve elements from the Redis sorted set based in **reverse** orders:"
   ]
  },
  {
   "cell_type": "code",
   "execution_count": 91,
   "id": "f5c06726",
   "metadata": {},
   "outputs": [
    {
     "name": "stdout",
     "output_type": "stream",
     "text": [
      "[b'100', b'99', b'98', b'97', b'96', b'95', b'94', b'93', b'92', b'91', b'90', b'89', b'88', b'87', b'86', b'85', b'84', b'83', b'82', b'81', b'80', b'79', b'78', b'77', b'76', b'75', b'74', b'73', b'72', b'71', b'70', b'69', b'68', b'67', b'66', b'65', b'64', b'63', b'62', b'61', b'60', b'59', b'58', b'57', b'56', b'55', b'54', b'53', b'52', b'51', b'50', b'49', b'48', b'47', b'46', b'45', b'44', b'43', b'42', b'41', b'40', b'39', b'38', b'37', b'36', b'35', b'34', b'33', b'32', b'31', b'30', b'29', b'28', b'27', b'26', b'25', b'24', b'23', b'22', b'21', b'20', b'19', b'18', b'17', b'16', b'15', b'14', b'13', b'12', b'11', b'10', b'9', b'8', b'7', b'6', b'5', b'4', b'3', b'2', b'1']\n"
     ]
    }
   ],
   "source": [
    "print(r_replica.zrevrangebyscore(\"redisSortedSet\", min=0, max=100, withscores = False))"
   ]
  },
  {
   "cell_type": "markdown",
   "id": "06ce6ed1",
   "metadata": {},
   "source": [
    "### Shopping Cart Example\n"
   ]
  },
  {
   "cell_type": "markdown",
   "id": "f171fee0",
   "metadata": {},
   "source": [
    "\\\n",
    "\\\n",
    "Creating a shopping empty cart, with a user ID and a session ID, within a Redis Hash.  Can create as many other user, session attributes as needed, such as event date, location, etc."
   ]
  },
  {
   "cell_type": "code",
   "execution_count": 92,
   "id": "7dcabb29",
   "metadata": {},
   "outputs": [],
   "source": [
    "shopping_cart_init = {\"userID\":\"10001\", \"sessionID\":\"382892\"}"
   ]
  },
  {
   "cell_type": "code",
   "execution_count": 93,
   "id": "a2f4b1fd",
   "metadata": {},
   "outputs": [],
   "source": [
    "user_id=shopping_cart_init.get('userID')\n",
    "cart_id='cart-'+str(user_id)"
   ]
  },
  {
   "cell_type": "markdown",
   "id": "1df7a188",
   "metadata": {},
   "source": [
    "Function to initialize this cart, with no items in it, for this user and session.  Could add more user and sessions specific attributes as parameters in the function as needed.\n",
    "\n",
    "The **hash key** will be the userID, which could be cleared upon checkout. "
   ]
  },
  {
   "cell_type": "code",
   "execution_count": 94,
   "id": "424f790b",
   "metadata": {},
   "outputs": [
    {
     "name": "stdout",
     "output_type": "stream",
     "text": [
      "Redis Hash for key: cart-10001  {b'userID': b'10001', b'sessionID': b'382892'}\n"
     ]
    }
   ],
   "source": [
    "def init_cart(cart_id,shopping_cart_init):\n",
    "    r_source.delete(cart_id)\n",
    "    r_source.hset(cart_id, mapping=shopping_cart_init)\n",
    "    print('Redis Hash for key: '+str(cart_id)+'  '+str(r_replica.hgetall(cart_id)))\n",
    "    \n",
    "init_cart(cart_id,shopping_cart_init)"
   ]
  },
  {
   "cell_type": "markdown",
   "id": "b4ee0c78",
   "metadata": {},
   "source": [
    "\\\n",
    "Function to **clear** this cart for the given hash key"
   ]
  },
  {
   "cell_type": "code",
   "execution_count": 95,
   "id": "764a1920",
   "metadata": {},
   "outputs": [],
   "source": [
    "def clear_cart(cart_id):\n",
    "    r_source.delete(cart_id)\n",
    "\n",
    "#clear_cart(cart_id)"
   ]
  },
  {
   "cell_type": "markdown",
   "id": "cb502002",
   "metadata": {},
   "source": [
    "\\\n",
    "Function to **check current cart content** for the given hash key"
   ]
  },
  {
   "cell_type": "code",
   "execution_count": 96,
   "id": "837dac16",
   "metadata": {},
   "outputs": [],
   "source": [
    "def check_cart(cart_id):\n",
    "    sleep(0.05)\n",
    "    print('Redis Hash for key: '+str(cart_id)+'  '+str(r_replica.hgetall(cart_id)))"
   ]
  },
  {
   "cell_type": "markdown",
   "id": "33afaca6",
   "metadata": {},
   "source": [
    "\\\n",
    "Function to **remove item** from cart"
   ]
  },
  {
   "cell_type": "code",
   "execution_count": 97,
   "id": "70b32c7b",
   "metadata": {},
   "outputs": [
    {
     "name": "stdout",
     "output_type": "stream",
     "text": [
      "Adding item 5555\n",
      "Redis Hash for key: cart-10001  {b'userID': b'10001', b'sessionID': b'382892', b'item-5555': b'1'}\n",
      "\n",
      "Deleting item 5555\n",
      "Redis Hash for key: cart-10001  {b'userID': b'10001', b'sessionID': b'382892'}\n"
     ]
    }
   ],
   "source": [
    "def remove_from_cart(cart_id,item_id):\n",
    "    r_source.hdel(cart_id, 'item-'+str(item_id))\n",
    "    \n",
    "print('Adding item '+'5555')\n",
    "r_source.hset(cart_id, 'item-5555', 1)\n",
    "check_cart(cart_id)\n",
    "\n",
    "print('\\nDeleting item '+'5555')\n",
    "remove_from_cart(cart_id,5555)\n",
    "check_cart(cart_id)"
   ]
  },
  {
   "cell_type": "markdown",
   "id": "477631e0",
   "metadata": {},
   "source": [
    "\\\n",
    "Function to **increase or decrease a specific item** in a cart by a certain quantity, which can be positive or negative.\n",
    "\n",
    "If quantity of the item after the operation is less than 1, the item is removed from the cart.  \n",
    "\n",
    "If the item does not exist in the card, it must be added to cart first. *See add_to_cart function below.*"
   ]
  },
  {
   "cell_type": "code",
   "execution_count": 98,
   "id": "1d77c30f",
   "metadata": {},
   "outputs": [
    {
     "name": "stdout",
     "output_type": "stream",
     "text": [
      "Current cart: \n",
      "Redis Hash for key: cart-10001  {b'userID': b'10001', b'sessionID': b'382892', b'item-9202': b'1', b'item-2315': b'2'}\n",
      "\n",
      "Incrementing item 9202 by 1: \n",
      "Redis Hash for key: cart-10001  {b'userID': b'10001', b'sessionID': b'382892', b'item-9202': b'2', b'item-2315': b'2'}\n",
      "\n",
      "Incrementing item 2315 by 3: \n",
      "Redis Hash for key: cart-10001  {b'userID': b'10001', b'sessionID': b'382892', b'item-9202': b'2', b'item-2315': b'5'}\n",
      "\n",
      "Incrementing item 2315 by -5 (removes item): \n",
      "Redis Hash for key: cart-10001  {b'userID': b'10001', b'sessionID': b'382892', b'item-9202': b'2'}\n"
     ]
    }
   ],
   "source": [
    "def increment_item_cart(cart_id,item_id,n):    \n",
    "    hget_output=r_replica.hget(cart_id, 'item-'+str(item_id))\n",
    "    if hget_output!=None:\n",
    "        new_count=int(hget_output)+int(n)\n",
    "        if (new_count)<1:\n",
    "            remove_from_cart(cart_id,item_id)\n",
    "        else:\n",
    "            r_source.hincrby(cart_id, 'item-'+str(item_id), n)\n",
    "    else:\n",
    "        remove_from_cart(cart_id,item_id)\n",
    "\n",
    "print('Current cart: ' )\n",
    "r_source.hset(cart_id, 'item-9202', 1)\n",
    "r_source.hset(cart_id, 'item-2315', 2)\n",
    "check_cart(cart_id)\n",
    "\n",
    "print('\\nIncrementing item 9202 by 1: ' )\n",
    "increment_item_cart(cart_id,9202,1)\n",
    "check_cart(cart_id)\n",
    "\n",
    "print('\\nIncrementing item 2315 by 3: ' )\n",
    "increment_item_cart(cart_id,2315,3)\n",
    "check_cart(cart_id)\n",
    "\n",
    "print('\\nIncrementing item 2315 by -5 (removes item): ' )\n",
    "increment_item_cart(cart_id,2315,-5)\n",
    "check_cart(cart_id)"
   ]
  },
  {
   "cell_type": "markdown",
   "id": "0bf84076",
   "metadata": {},
   "source": [
    "\\\n",
    "Function to **add an item to cart**.   Can optionally provide a quantity of the item to add.\n",
    "\n",
    "If the item is already in the cart, it will be incremented by the provided amount."
   ]
  },
  {
   "cell_type": "code",
   "execution_count": 99,
   "id": "3a6f3af1",
   "metadata": {},
   "outputs": [
    {
     "name": "stdout",
     "output_type": "stream",
     "text": [
      "Current cart: \n",
      "Redis Hash for key: cart-10001  {b'userID': b'10001', b'sessionID': b'382892', b'item-9202': b'2'}\n",
      "\n",
      "Adding item 2315 to cart: \n",
      "Redis Hash for key: cart-10001  {b'userID': b'10001', b'sessionID': b'382892', b'item-9202': b'2', b'item-2315': b'1'}\n",
      "\n",
      "Adding item 2315 to cart AGAIN: \n",
      "Redis Hash for key: cart-10001  {b'userID': b'10001', b'sessionID': b'382892', b'item-9202': b'2', b'item-2315': b'2'}\n"
     ]
    }
   ],
   "source": [
    "def add_to_cart(cart_id,item_id,n=1):\n",
    "    hget_output=r_replica.hget(cart_id, 'item-'+str(item_id))\n",
    "    if hget_output==None:\n",
    "        r_source.hset(cart_id, 'item-'+str(item_id), n)\n",
    "    else:\n",
    "        increment_item_cart(cart_id,item_id,n)\n",
    "        \n",
    "print('Current cart: ' )\n",
    "check_cart(cart_id)\n",
    "\n",
    "print('\\nAdding item 2315 to cart: ' )\n",
    "add_to_cart(cart_id,2315)\n",
    "check_cart(cart_id)\n",
    "\n",
    "print('\\nAdding item 2315 to cart AGAIN: ' )\n",
    "add_to_cart(cart_id,2315)\n",
    "check_cart(cart_id)"
   ]
  },
  {
   "cell_type": "markdown",
   "id": "376f4cc3",
   "metadata": {},
   "source": [
    "### Shopping Cart Demo"
   ]
  },
  {
   "cell_type": "code",
   "execution_count": 100,
   "id": "1695783d",
   "metadata": {},
   "outputs": [
    {
     "data": {
      "application/vnd.jupyter.widget-view+json": {
       "model_id": "a24fecee178d4352a0465a459a619e02",
       "version_major": 2,
       "version_minor": 0
      },
      "text/plain": [
       "Button(description='Initialize', style=ButtonStyle())"
      ]
     },
     "metadata": {},
     "output_type": "display_data"
    },
    {
     "name": "stdout",
     "output_type": "stream",
     "text": [
      "\n",
      "\n"
     ]
    },
    {
     "data": {
      "application/vnd.jupyter.widget-view+json": {
       "model_id": "5ea8ab96ecf440e6beb04652c7ca9997",
       "version_major": 2,
       "version_minor": 0
      },
      "text/plain": [
       "HBox(children=(Label(value='user_id: '), Text(value='10001'), Label(value='session_id: '), Text(value='74658')…"
      ]
     },
     "metadata": {},
     "output_type": "display_data"
    },
    {
     "name": "stdout",
     "output_type": "stream",
     "text": [
      "\n",
      "\n"
     ]
    },
    {
     "data": {
      "application/vnd.jupyter.widget-view+json": {
       "model_id": "593d44e7ec8b46eabc1efa3b17cc824f",
       "version_major": 2,
       "version_minor": 0
      },
      "text/plain": [
       "HBox(children=(Label(value='Add items to cart: '), Button(description='Item 1', style=ButtonStyle(), tooltip='…"
      ]
     },
     "metadata": {},
     "output_type": "display_data"
    },
    {
     "name": "stdout",
     "output_type": "stream",
     "text": [
      "\n",
      "\n"
     ]
    },
    {
     "data": {
      "application/vnd.jupyter.widget-view+json": {
       "model_id": "3be90564e78841aebfd13ec709d7c046",
       "version_major": 2,
       "version_minor": 0
      },
      "text/plain": [
       "HBox(children=(Label(value='Change Item Quantity: '), Text(value='3'), Button(description='+', style=ButtonSty…"
      ]
     },
     "metadata": {},
     "output_type": "display_data"
    },
    {
     "name": "stdout",
     "output_type": "stream",
     "text": [
      "\n",
      "\n"
     ]
    },
    {
     "data": {
      "application/vnd.jupyter.widget-view+json": {
       "model_id": "143756b439244704b5112e96bd85ac50",
       "version_major": 2,
       "version_minor": 0
      },
      "text/plain": [
       "Button(description='Clear Cart', style=ButtonStyle())"
      ]
     },
     "metadata": {},
     "output_type": "display_data"
    }
   ],
   "source": [
    "from IPython.display import display\n",
    "import ipywidgets as widgets\n",
    "from random import randrange\n",
    "\n",
    "#Clear Cart-----------------------------\n",
    "def clearCart(arg=None):\n",
    "    print('\\nShopping cart empty')\n",
    "    print('user_id:'+str(userIDInput.value)+'  session_id:'+str(sessionIDInput.value))\n",
    "    shopping_cart_init = {\"userID\":str(userIDInput.value), \"sessionID\":str(sessionIDInput.value)}\n",
    "    user_id=shopping_cart_init.get('userID')\n",
    "    cart_id='cart-'+str(user_id)\n",
    "    clear_cart(cart_id)\n",
    "    init_cart(cart_id,shopping_cart_init)\n",
    "\n",
    "#Initialize -------------------------------------\n",
    "initializeButton = widgets.Button(description='Initialize')\n",
    "display(initializeButton)\n",
    "print('\\n')\n",
    "\n",
    "def initialize(arg):\n",
    "    print('Initializing..')\n",
    "    clearCart()\n",
    "initializeButton.on_click(initialize)\n",
    "\n",
    "\n",
    "#User ID & Session ID  -------------------------------------\n",
    "userIDInput = widgets.Text(value='10001')\n",
    "sessionIDInput = widgets.Text(value=str(randrange(99999)))\n",
    "\n",
    "display(widgets.HBox(( widgets.Label('user_id: '),userIDInput,widgets.Label('session_id: '),sessionIDInput)))\n",
    "print('\\n')\n",
    "\n",
    "#Add Items to Car -------------------------------------\n",
    "def itm_clicked(arg):\n",
    "    item_id=arg.tooltip\n",
    "    print('\\nAdding item '+str(item_id)+' to cart')\n",
    "    add_to_cart(cart_id,item_id,1)\n",
    "    check_cart(cart_id)\n",
    "    \n",
    "\n",
    "    \n",
    "buttonItem1 = widgets.Button(description = 'Item 1',tooltip='1')\n",
    "buttonItem2 = widgets.Button(description = 'Item 2',tooltip='2')\n",
    "buttonItem3 = widgets.Button(description = 'Item 3',tooltip='3')\n",
    "buttonItem4 = widgets.Button(description = 'Item 4',tooltip='4')\n",
    " \n",
    "buttonItem1.on_click(itm_clicked)\n",
    "buttonItem2.on_click(itm_clicked)\n",
    "buttonItem3.on_click(itm_clicked)\n",
    "buttonItem4.on_click(itm_clicked)\n",
    "\n",
    "display(widgets.HBox((widgets.Label('Add items to cart: '),buttonItem1, buttonItem2,buttonItem3, buttonItem4)))\n",
    "print('\\n')\n",
    "\n",
    "#Increment Shopping Cart Values -------------------------------------\n",
    "def quant_changed(arg):\n",
    "    increment_item_cart(cart_id,inputItem.value,arg.tooltip)\n",
    "    print('\\nIncrementing item '+str(inputItem.value)+' by '+str(arg.tooltip))\n",
    "    check_cart(cart_id)\n",
    "\n",
    "inputItem = widgets.Text(value='3')\n",
    "buttonAdd = widgets.Button(description = '+',tooltip='1')\n",
    "buttonRemove = widgets.Button(description = '-',tooltip='-1')\n",
    "\n",
    "display(widgets.HBox(( widgets.Label('Change Item Quantity: '),inputItem,buttonAdd, buttonRemove)))\n",
    "\n",
    "buttonAdd.on_click(quant_changed)\n",
    "buttonRemove.on_click(quant_changed)\n",
    "print('\\n')\n",
    "#Emptry Cart-------------------------------------\n",
    "\n",
    "emptyCart = widgets.Button(description='Clear Cart')\n",
    "display(emptyCart)\n",
    "\n",
    "\n",
    "emptyCart.on_click(clearCart)\n",
    "\n",
    "\n"
   ]
  }
 ],
 "metadata": {
  "kernelspec": {
   "display_name": "Python 3",
   "language": "python",
   "name": "python3"
  },
  "language_info": {
   "codemirror_mode": {
    "name": "ipython",
    "version": 3
   },
   "file_extension": ".py",
   "mimetype": "text/x-python",
   "name": "python",
   "nbconvert_exporter": "python",
   "pygments_lexer": "ipython3",
   "version": "3.6.9"
  }
 },
 "nbformat": 4,
 "nbformat_minor": 5
}
